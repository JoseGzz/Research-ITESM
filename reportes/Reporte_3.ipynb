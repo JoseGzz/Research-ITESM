{
 "cells": [
  {
   "cell_type": "markdown",
   "metadata": {},
   "source": [
    "Registro de los mejores makespans y número de iteraciones\n",
    "\n",
    "## Best Move"
   ]
  },
  {
   "cell_type": "code",
   "execution_count": 1,
   "metadata": {
    "collapsed": true
   },
   "outputs": [],
   "source": [
    "import pandas as pd\n",
    "import numpy as np\n",
    "import matplotlib.pyplot as plt"
   ]
  },
  {
   "cell_type": "code",
   "execution_count": 58,
   "metadata": {},
   "outputs": [],
   "source": [
    "# load data to dataframes\n",
    "def load_data(data_directory, name):\n",
    "    dfs = []\n",
    "\n",
    "    for i in range(number_of_files):\n",
    "        dfs.append([])\n",
    "        file_df = pd.read_csv(data_directory + name.replace(\"N\", str(i + 1)))\n",
    "        column_names = file_df.columns.values.tolist()\n",
    "\n",
    "        # remove trailing spances from column names\n",
    "        column_names = [column_name.strip() for column_name in column_names]\n",
    "        file_df.columns = column_names\n",
    "\n",
    "        idx = [-1] + file_df[file_df['current_makespan'] == ' current_makespan'].index.tolist()\n",
    "\n",
    "        for j in range(number_of_examples - 1):\n",
    "            dfs[i].append(file_df.loc[idx[j] + 1:idx[j + 1] - 2,:])\n",
    "\n",
    "        dfs[i].append(file_df.loc[idx[number_of_examples - 1] + 1:,:])\n",
    "        \n",
    "    return dfs"
   ]
  },
  {
   "cell_type": "code",
   "execution_count": 59,
   "metadata": {},
   "outputs": [],
   "source": [
    "numeric_columns = ['best_makespan', 'current_makespan', 'current_temp', 'iter_number_in_temp',\n",
    "                      'iter_per_temp', 'max_temperature', 'min_temperature', 'num_jobs',\n",
    "                      'num_machines', 'num_operations', 'temp_change_ratio', 'worst_makespan', 'prob_acceptance']\n",
    "\n",
    "string_columns = ['should_accept', 'move_direction', 'equal_count','first_op_moved', 'last_op_moved', \n",
    "                      'longer_count', 'operation_duration', 'selected_machine', 'shorter_count', \n",
    "                      'switch_operation_1', 'violates_constraint','moves']\n",
    "\n",
    "def cast_types(dfs, numeric_columns, string_columns):\n",
    "    # for each dataframe remove the first row from data\n",
    "    for file_df in dfs:\n",
    "        for df in file_df:\n",
    "            df.drop(df.index[0], inplace=True)\n",
    "\n",
    "    # for each dataframe, cast columns to appropriate types\n",
    "    for file in range(number_of_files):\n",
    "        for example in range(number_of_examples):\n",
    "            for column in numeric_columns:\n",
    "                if column in dfs[file][example].columns.values.tolist():\n",
    "                    dfs[file][example].loc[:, column] = \\\n",
    "                            dfs[file][example].loc[:,column].apply(pd.to_numeric, errors='coerce')\n",
    "\n",
    "            for column in string_columns:\n",
    "                if column in dfs[file][example].columns.values.tolist():\n",
    "                    dfs[file][example].loc[:, column] = \\\n",
    "                            dfs[file][example].loc[:,column].astype(str)"
   ]
  },
  {
   "cell_type": "code",
   "execution_count": 56,
   "metadata": {},
   "outputs": [],
   "source": [
    "def highlight_min(s):\n",
    "    '''\n",
    "    highlight the maximum in a Series yellow.\n",
    "    '''\n",
    "    is_min = s == s.min()\n",
    "    return ['background-color: yellow' if v else '' for v in is_min]"
   ]
  },
  {
   "cell_type": "code",
   "execution_count": 65,
   "metadata": {},
   "outputs": [],
   "source": [
    "heuristics = [\"BEST\", \"BEST2\", \"FIRST\", \"SEQ\", \"DE\", \"PS\"]\n",
    "files = [\"JSSP_3_fN.csv\", \"JSSP_4_fN.csv\", \"JSSP_5_fN.csv\", \"JSSP_6_fN.csv\", \"JSSP_7_fN.csv\", \"JSSP_2_fN.csv\"]\n",
    "directory = \"../../data/first_run/\"\n",
    "number_of_files = 7\n",
    "number_of_examples = 20\n",
    "all_dfs = {}\n",
    "makespans_dfs = {}\n",
    "iterations_dfs = {}\n",
    "\n",
    "for heuristic, file in zip(heuristics, files):\n",
    "    all_dfs[heuristic] = load_data(directory, file)\n",
    "    cast_types(all_dfs[heuristic], numeric_columns, string_columns)\n",
    "\n",
    "    makespans_dfs[heuristic] = pd.DataFrame()\n",
    "    iterations_dfs[heuristic] = pd.DataFrame()\n",
    "    for file in range(number_of_files):\n",
    "        values = []\n",
    "        iters = []\n",
    "        for example in range(10):\n",
    "            values.append(all_dfs[heuristic][file][example].loc[:, \"best_makespan\"].min())\n",
    "            iters.append(all_dfs[heuristic][file][example].shape[0])\n",
    "            \n",
    "        column_name = \"{0}x{1}:\".format(int(all_dfs[heuristic][file][0].loc[0:1, \"num_jobs\"]), \n",
    "                                        int(all_dfs[heuristic][file][0].loc[0:1, \"num_machines\"]))\n",
    "        \n",
    "        makespans_dfs[heuristic][column_name] = pd.Series(values)\n",
    "        iterations_dfs[heuristic][column_name] = pd.Series(iters)"
   ]
  },
  {
   "cell_type": "code",
   "execution_count": 66,
   "metadata": {},
   "outputs": [
    {
     "name": "stdout",
     "output_type": "stream",
     "text": [
      "BEST\n",
      "BEST2\n",
      "FIRST\n",
      "SEQ\n",
      "DE\n",
      "PS\n"
     ]
    }
   ],
   "source": [
    "for heuristic in heuristics:\n",
    "    print(heuristic)\n",
    "    makespans_dfs[heuristic].style.apply(highlight_min)\n",
    "makespans_dfs[heuristic]"
   ]
  },
  {
   "cell_type": "code",
   "execution_count": null,
   "metadata": {
    "collapsed": true
   },
   "outputs": [],
   "source": []
  }
 ],
 "metadata": {
  "kernelspec": {
   "display_name": "Python 3",
   "language": "python",
   "name": "python3"
  },
  "language_info": {
   "codemirror_mode": {
    "name": "ipython",
    "version": 3
   },
   "file_extension": ".py",
   "mimetype": "text/x-python",
   "name": "python",
   "nbconvert_exporter": "python",
   "pygments_lexer": "ipython3",
   "version": "3.6.1"
  }
 },
 "nbformat": 4,
 "nbformat_minor": 2
}
